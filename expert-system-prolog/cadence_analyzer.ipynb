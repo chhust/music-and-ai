{
 "cells": [
  {
   "metadata": {},
   "cell_type": "markdown",
   "source": [
    "# VISUAL CADENCE ANALYZER\n",
    "## This builds an interface to the _cadence_expert_ system using PySWIP.\n",
    "\n",
    "Main functionalities are:\n",
    "\n",
    "1. **Chord Analysis** - Analyze Individual Chords\n",
    "2. **Progression Analysis** - Analyze Chord Progressions\n",
    "3. **Cadence Pattern Detection** - Identify Cadence Patterns\n",
    "4. **Visualization** - Graphic Display of Analysis Results\n",
    "5. **Interactive Input** - More User-friendly Input (compared to Prolog, at least)\n",
    "6. **Knowledge Base Expansion** - Add New Chords to the System\n",
    "\n",
    "## Some Literature I used\n",
    "\n",
    "As expert systems are no longer the focal point of current AI research, most literature comes from the heydays of symbolic AI during the 1980s.\n",
    "\n",
    "+ Patrick Blackburn, Johan Bos, and Kristina Striegnitz: \"Learn Prolog Now!\", London: King's College, 2006 (Texts in Computing 7) -- Prolog primer\n",
    "+ \"Einführung in die Künstliche Intelligenz\", vol. 2, ed. by Manfred Strede, Strendlingen: Luther, 1984 -- theory and architecture of expert systems\n",
    "+ Michael Roth, \"Die intelligente Maschine: Der Computer als Experte\", Leipzig, Jena, Berlin (Ost): Urania, 1988 -- at times slightly curious Socialist/utopian views of AI\n",
    "\n",
    "Further ideas about expert systems can be found in books concerned with the second big AI coding language, LISP, eg.:\n",
    "\n",
    "+ A. A. Berk, \"LISP: The Language of Artificial Intelligence\", New York: van Nostrand Reinhold, 1985\n",
    "+ A. Bundy, \"Praktische Einführung in die Künstliche Intelligenz\", Munich: IWT, 1986"
   ],
   "id": "d97ef85d13d13dc"
  },
  {
   "metadata": {},
   "cell_type": "markdown",
   "source": "## Imports and Initiliazation",
   "id": "38abe5a06e6cafba"
  },
  {
   "metadata": {
    "jupyter": {
     "is_executing": true
    }
   },
   "cell_type": "code",
   "source": [
    "import os, sys\n",
    "import matplotlib.pyplot as plt\n",
    "import numpy as np\n",
    "\n",
    "from IPython.display import clear_output, display, Markdown, HTML\n",
    "from pyswip import Prolog\n",
    "\n",
    "PROLOG_FILE = \"cadence_expert.pl\"\n",
    "\n",
    "if not os.path.exists(PROLOG_FILE):\n",
    "    print(f\"ERROR: File '{PROLOG_FILE}' not found in folder '{os.getcwd()}'.'\")\n",
    "    sys.exit(1)\n",
    "\n",
    "prolog = Prolog()\n",
    "prolog.consult(PROLOG_FILE)\n",
    "\n",
    "print(f\"Prolog System '{PROLOG_FILE}' initialized.\")"
   ],
   "id": "61f8c6b7ad54ea2a",
   "outputs": [],
   "execution_count": null
  },
  {
   "metadata": {},
   "cell_type": "markdown",
   "source": "## Functions for Chord and Progression Analysis",
   "id": "c31e6ed7d1598dc9"
  },
  {
   "metadata": {
    "ExecuteTime": {
     "end_time": "2025-04-11T10:57:13.526067Z",
     "start_time": "2025-04-11T10:57:13.503907Z"
    }
   },
   "cell_type": "code",
   "source": [
    "def analyze_chord(bass, figure):\n",
    "    \"\"\"\n",
    "    Analyze a single chord.\n",
    "\n",
    "    bass is a character (\"c\", \"g\"),\n",
    "    figure is a string (\"5/3\", \"6\")\n",
    "    \"\"\"\n",
    "\n",
    "    results = list(prolog.query(f\"analyze_chord({bass}, '{figure}', ChordName, Function)\"))\n",
    "\n",
    "    if results:\n",
    "        return {\n",
    "            \"bass\"      : bass,\n",
    "            \"figure\"    : figure,\n",
    "            \"chord_name\": results[0][\"ChordName\"],\n",
    "            \"function\"  : results[0][\"Function\"]\n",
    "        }\n",
    "\n",
    "    else:\n",
    "        return {\n",
    "            \"bass\"      : bass,\n",
    "            \"figure\"    : figure,\n",
    "            \"chord_name\": \"unknown\",\n",
    "            \"function\"  : \"unknown\"\n",
    "        }\n",
    "\n",
    "def analyze_progression(chord_list):\n",
    "    \"\"\"\n",
    "    Analyze a chord progression.\n",
    "\n",
    "    chord_list is a list of (bass, figure) tuples.\n",
    "    \"\"\"\n",
    "\n",
    "    # Build the list of terms in Prolog format\n",
    "    chord_terms = \"[\" + \",\".join([f\"chord({bass},'{figure}')\" for bass, figure in chord_list]) + \"]\"\n",
    "\n",
    "    results = list(prolog.query(\n",
    "        f\"clear_explanations, analyze_progression({chord_terms}, Analysis), detect_cadence(Analysis, CadenceType)\"\n",
    "    ))\n",
    "\n",
    "    analyses = []\n",
    "    cadence_type = \"Could not find cadence type.\"\n",
    "\n",
    "    if results:\n",
    "        for result in results:\n",
    "            if \"CadenceType\" in result:\n",
    "                cadence_type = result[\"CadenceType\"]\n",
    "                break\n",
    "\n",
    "    analyses = [analyze_chord(bass, figure) for bass, figure in chord_list]\n",
    "\n",
    "    explanations = list(prolog.query(\"explanation(Text)\"))\n",
    "    explanation_texts = [exp[\"Text\"] for exp in explanations]\n",
    "\n",
    "    return analyses, cadence_type, explanation_texts"
   ],
   "id": "3e6f0fc9933b377",
   "outputs": [],
   "execution_count": 14
  },
  {
   "metadata": {},
   "cell_type": "markdown",
   "source": "## Function for Interactive Analysis",
   "id": "e09e1bdb09e820ea"
  },
  {
   "metadata": {
    "ExecuteTime": {
     "end_time": "2025-04-11T10:57:13.593386Z",
     "start_time": "2025-04-11T10:57:13.577932Z"
    }
   },
   "cell_type": "code",
   "source": [
    "def interactive_chord_analysis():\n",
    "    \"\"\"\n",
    "    Interactively analyze chords\n",
    "    \"\"\"\n",
    "\n",
    "    print(\"Chord Progression Analyzer\")\n",
    "    print(\"==========================\")\n",
    "    print(\"Please enter bass tones and figures, like ' c 5/3 '.\")\n",
    "    print(\"Blank input ends the progression and triggers the analysis.\")\n",
    "    print(\"Bass tones can be any of the following: c, d, e, f, g, a, b\")\n",
    "    print(\"Figures: 5/3 for root position, 6 for first inversion\")\n",
    "\n",
    "    progression = []\n",
    "\n",
    "    while True:\n",
    "        chord_input = input(f\"Chord {len(progression) + 1} (press Enter to stop): \").strip()\n",
    "\n",
    "        if not chord_input:\n",
    "            break\n",
    "\n",
    "        parts = chord_input.split()\n",
    "        if len(parts) != 2:\n",
    "            print(\"Wrong input! Use this format: <bass> <figure>\")\n",
    "            continue\n",
    "\n",
    "        bass, figure = parts\n",
    "        if bass not in [\"c\", \"d\", \"e\", \"f\", \"g\", \"a\", \"b\"]:\n",
    "            print(f\"Illegal bass tone: '{bass}'. Valid tones are: c, d, e, f, g, a, b.\")\n",
    "            continue\n",
    "\n",
    "        if figure not in [\"5/3\", \"6\"]:\n",
    "            print(f\"Illegal figure: '{figure}'. Valid figures are: 5/3, 6.\")\n",
    "            continue\n",
    "\n",
    "        progression.append((bass, figure))\n",
    "        print(f\"Added chord: {bass} {figure}\")\n",
    "\n",
    "    if not progression:\n",
    "        print(\"No chords entered.\")\n",
    "        return\n",
    "\n",
    "    clear_output()\n",
    "    print(f\"Analyzing the progression of {len(progression)} chords:\")\n",
    "    for i, (bass, figure) in enumerate(progression):\n",
    "        print(f\"{i + 1}. {bass} {figure}\")\n",
    "\n",
    "    analyses, cadence_type, explanations = analyze_progression(progression)\n",
    "    visualize_analysis(analyses, cadence_type, explanations)\n"
   ],
   "id": "516f4f5d51e933f8",
   "outputs": [],
   "execution_count": 15
  },
  {
   "metadata": {},
   "cell_type": "markdown",
   "source": "## Functions for Knowledge Base Management",
   "id": "48d3b79df0704bbb"
  },
  {
   "metadata": {
    "ExecuteTime": {
     "end_time": "2025-04-11T10:57:13.657122Z",
     "start_time": "2025-04-11T10:57:13.633203Z"
    }
   },
   "cell_type": "code",
   "source": [
    "def add_chord_definition(bass, figure, chord_name, function):\n",
    "    \"\"\"\n",
    "    Add a new chord definition to the Prolog system.\n",
    "    \"\"\"\n",
    "\n",
    "    list(prolog.query(\n",
    "        f\"add_chord_fact({bass}, '{figure}', '{chord_name}', {function})\"\n",
    "    ))\n",
    "\n",
    "    print(f\"Chord definition added: {bass} {figure} -> {chord_name} ({function})\")\n",
    "\n",
    "\n",
    "def list_available_chords():\n",
    "    \"\"\"\n",
    "    Show all chords currently available in the Prolog system.\n",
    "    \"\"\"\n",
    "\n",
    "    results = list(prolog.query(\n",
    "        \"chord_def(Bass, Figure, Name, Function)\"\n",
    "    ))\n",
    "\n",
    "    html = \"<h3>Available Chord Definitions</h3>\"\n",
    "    html += \"<table style='width:80%; border-collapse:collapse; margin:10px 0;'>\"\n",
    "    html += \"<tr><th style='border:1px solid #ddd; padding:8px; text-align:center; background-color:#f2f2f2;'>Bass</th>\"\n",
    "    html += \"<th style='border:1px solid #ddd; padding:8px; text-align:center; background-color:#f2f2f2;'>Figure</th>\"\n",
    "    html += \"<th style='border:1px solid #ddd; padding:8px; text-align:center; background-color:#f2f2f2;'>Chord Name</th>\"\n",
    "    html += \"<th style='border:1px solid #ddd; padding:8px; text-align:center; background-color:#f2f2f2;'>Function</th></tr>\"\n",
    "\n",
    "    for result in results:\n",
    "        html += \"<tr>\"\n",
    "        html += f\"<td style='border:1px solid #ddd; padding:8px; text-align:center;'>{result['Bass']}</td>\"\n",
    "        html += f\"<td style='border:1px solid #ddd; padding:8px; text-align:center;'>{result['Figure']}</td>\"\n",
    "        html += f\"<td style='border:1px solid #ddd; padding:8px; text-align:center;'>{result['Name']}</td>\"\n",
    "        html += f\"<td style='border:1px solid #ddd; padding:8px; text-align:center;'>{result['Function']}</td>\"\n",
    "        html += \"</tr>\"\n",
    "    html += \"</table>\"\n",
    "\n",
    "    display(HTML(html))\n",
    "\n",
    "\n",
    "list_available_chords()"
   ],
   "id": "23ff35dc1f52c6c9",
   "outputs": [
    {
     "data": {
      "text/plain": [
       "<IPython.core.display.HTML object>"
      ],
      "text/html": [
       "<h3>Available Chord Definitions</h3><table style='width:80%; border-collapse:collapse; margin:10px 0;'><tr><th style='border:1px solid #ddd; padding:8px; text-align:center; background-color:#f2f2f2;'>Bass</th><th style='border:1px solid #ddd; padding:8px; text-align:center; background-color:#f2f2f2;'>Figure</th><th style='border:1px solid #ddd; padding:8px; text-align:center; background-color:#f2f2f2;'>Chord Name</th><th style='border:1px solid #ddd; padding:8px; text-align:center; background-color:#f2f2f2;'>Function</th></tr><tr><td style='border:1px solid #ddd; padding:8px; text-align:center;'>c</td><td style='border:1px solid #ddd; padding:8px; text-align:center;'>5/3</td><td style='border:1px solid #ddd; padding:8px; text-align:center;'>C major</td><td style='border:1px solid #ddd; padding:8px; text-align:center;'>tonic</td></tr><tr><td style='border:1px solid #ddd; padding:8px; text-align:center;'>d</td><td style='border:1px solid #ddd; padding:8px; text-align:center;'>5/3</td><td style='border:1px solid #ddd; padding:8px; text-align:center;'>D minor</td><td style='border:1px solid #ddd; padding:8px; text-align:center;'>supertonic</td></tr><tr><td style='border:1px solid #ddd; padding:8px; text-align:center;'>e</td><td style='border:1px solid #ddd; padding:8px; text-align:center;'>5/3</td><td style='border:1px solid #ddd; padding:8px; text-align:center;'>E minor</td><td style='border:1px solid #ddd; padding:8px; text-align:center;'>mediant</td></tr><tr><td style='border:1px solid #ddd; padding:8px; text-align:center;'>f</td><td style='border:1px solid #ddd; padding:8px; text-align:center;'>5/3</td><td style='border:1px solid #ddd; padding:8px; text-align:center;'>F major</td><td style='border:1px solid #ddd; padding:8px; text-align:center;'>subdominant</td></tr><tr><td style='border:1px solid #ddd; padding:8px; text-align:center;'>g</td><td style='border:1px solid #ddd; padding:8px; text-align:center;'>5/3</td><td style='border:1px solid #ddd; padding:8px; text-align:center;'>G major</td><td style='border:1px solid #ddd; padding:8px; text-align:center;'>dominant</td></tr><tr><td style='border:1px solid #ddd; padding:8px; text-align:center;'>a</td><td style='border:1px solid #ddd; padding:8px; text-align:center;'>5/3</td><td style='border:1px solid #ddd; padding:8px; text-align:center;'>A minor</td><td style='border:1px solid #ddd; padding:8px; text-align:center;'>submediant</td></tr><tr><td style='border:1px solid #ddd; padding:8px; text-align:center;'>b</td><td style='border:1px solid #ddd; padding:8px; text-align:center;'>5/3</td><td style='border:1px solid #ddd; padding:8px; text-align:center;'>B diminished</td><td style='border:1px solid #ddd; padding:8px; text-align:center;'>leadingtone</td></tr></table>"
      ]
     },
     "metadata": {},
     "output_type": "display_data"
    }
   ],
   "execution_count": 16
  },
  {
   "metadata": {},
   "cell_type": "markdown",
   "source": "## Functions for Visualization",
   "id": "d1de8c931d4ae957"
  },
  {
   "metadata": {
    "ExecuteTime": {
     "end_time": "2025-04-11T10:57:13.802133Z",
     "start_time": "2025-04-11T10:57:13.767174Z"
    }
   },
   "cell_type": "code",
   "source": [
    "def get_contrasting_text_color(hex_color):\n",
    "    hex_color = hex_color.lstrip(\"#\")\n",
    "    r, g, b = int(hex_color[0:2], 16), int(hex_color[2:4], 16), int(hex_color[4:6], 16)     # convert hex to RGB\n",
    "    luminance = (0.299 * r + 0.587 * g + 0.114 * b)                                         # calculate luminance\n",
    "\n",
    "    return \"#000000\" if luminance > 186 else \"#ffffff\"\n",
    "\n",
    "\n",
    "def visualize_analysis(analyses, cadence_type, explanations=None):\n",
    "    \"\"\"\n",
    "    Visualize analysis\n",
    "    \"\"\"\n",
    "\n",
    "    color_map = {\n",
    "        \"tonic\"      : \"#8dd3c7\",       \"dominant\"   : \"#fb8072\",\n",
    "        \"subdominant\": \"#80b1d3\",       \"supertonic\" : \"#fdb462\",\n",
    "        \"mediant\"    : \"#b3de69\",       \"submediant\" : \"#fccde5\",\n",
    "        \"leadingtone\": \"#d9d9d9\",       \"unknown\"    : \"#ffffff\"\n",
    "    }\n",
    "\n",
    "    # Construct HTML table for the analysis results\n",
    "    html = \"<h3>Chord Analysis</h3>\"\n",
    "    html += \"<table style='width:80%; border-collapse:collapse; margin:10px 0;'>\"\n",
    "    html += \"<tr>\"\n",
    "    for column in [\"Bass\", \"Figures\", \"Chord Name\", \"Function\"]:\n",
    "        html += f\"<th style='border:1px solid #ddd; padding:8px; background-color:#f2f2f2; text-align:center;'>{column}</th>\"\n",
    "    html += \"</tr>\"\n",
    "\n",
    "    for analysis in analyses:\n",
    "        bg_color = color_map.get(analysis[\"function\"], \"#ffffff\")\n",
    "        text_color = get_contrasting_text_color(bg_color)\n",
    "\n",
    "        html += f\"<tr style='background-color:{bg_color};'>\"\n",
    "        html += f\"<td style='border:1px solid #ddd; padding:8px; text-align:center; color:{text_color};'>{analysis['bass']}</td>\"\n",
    "        html += f\"<td style='border:1px solid #ddd; padding:8px; text-align:center; color:{text_color};'>{analysis['figure']}</td>\"\n",
    "        html += f\"<td style='border:1px solid #ddd; padding:8px; text-align:center; color:{text_color};'>{analysis['chord_name']}</td>\"\n",
    "        html += f\"<td style='border:1px solid #ddd; padding:8px; text-align:center; color:{text_color};'>{analysis['function']}</td>\"\n",
    "        html += \"</tr>\"\n",
    "    html += \"</table>\"\n",
    "\n",
    "    html += f\"<h3>Cadence Analysis</h3><p>{cadence_type}</p>\"\n",
    "\n",
    "    fig, ax = plt.subplots(figsize=(10, 3))\n",
    "\n",
    "    x = np.arange(len(analyses))\n",
    "    colors = [color_map.get(analysis[\"function\"], \"#ffffff\") for analysis in analyses]\n",
    "\n",
    "    bars = ax.bar(x, [1] * len(analyses), color=colors, width=0.7)\n",
    "    ax.set_xticks(x)\n",
    "    ax.set_xticklabels([f\"{analysis['bass']} ({analysis['figure']})\" for analysis in analyses])\n",
    "    ax.set_title(\"Chord Progression\")\n",
    "    ax.set_yticks([])   # do not display Y axis\n",
    "\n",
    "    # Print functions on graph\n",
    "    for index, bar in enumerate(bars):\n",
    "        ax.text(index, 0.5, analyses[index][\"function\"],\n",
    "                ha=\"center\", va=\"center\",\n",
    "                rotation=90 if len(analyses[index][\"function\"]) > 6 else 0)\n",
    "\n",
    "    plt.tight_layout()\n",
    "    plt.show()\n",
    "\n",
    "    display(HTML(html))\n",
    "\n",
    "    # Show explanations (if there are any)\n",
    "    if explanations:\n",
    "        display(Markdown(\"### Explanations of Inferred Knowledge:\"))\n",
    "        for exp in explanations:\n",
    "            display(Markdown(f\"- {exp}\"))"
   ],
   "id": "259deabe2fd44f25",
   "outputs": [],
   "execution_count": 17
  },
  {
   "metadata": {},
   "cell_type": "markdown",
   "source": "# Test cases",
   "id": "46b4e790130a6cdf"
  },
  {
   "metadata": {},
   "cell_type": "markdown",
   "source": "## Test Case I: Analyze a Simple Authentic Cadence",
   "id": "a435935a5f258635"
  },
  {
   "metadata": {
    "ExecuteTime": {
     "end_time": "2025-04-11T10:57:14.008477Z",
     "start_time": "2025-04-11T10:57:13.821597Z"
    }
   },
   "cell_type": "code",
   "source": [
    "progression = [\n",
    "    (\"g\", \"5/3\"),\n",
    "    (\"c\", \"5/3\")\n",
    "]\n",
    "\n",
    "analyses, cadence_type, explanations = analyze_progression(progression)\n",
    "visualize_analysis(analyses, cadence_type, explanations)"
   ],
   "id": "b079ad879441610c",
   "outputs": [
    {
     "data": {
      "text/plain": [
       "<Figure size 1000x300 with 1 Axes>"
      ],
      "image/png": "[encoded data removed]"
     },
     "metadata": {},
     "output_type": "display_data"
    },
    {
     "data": {
      "text/plain": [
       "<IPython.core.display.HTML object>"
      ],
      "text/html": [
       "<h3>Chord Analysis</h3><table style='width:80%; border-collapse:collapse; margin:10px 0;'><tr><th style='border:1px solid #ddd; padding:8px; background-color:#f2f2f2; text-align:center;'>Bass</th><th style='border:1px solid #ddd; padding:8px; background-color:#f2f2f2; text-align:center;'>Figures</th><th style='border:1px solid #ddd; padding:8px; background-color:#f2f2f2; text-align:center;'>Chord Name</th><th style='border:1px solid #ddd; padding:8px; background-color:#f2f2f2; text-align:center;'>Function</th></tr><tr style='background-color:#fb8072;'><td style='border:1px solid #ddd; padding:8px; text-align:center; color:#ffffff;'>g</td><td style='border:1px solid #ddd; padding:8px; text-align:center; color:#ffffff;'>5/3</td><td style='border:1px solid #ddd; padding:8px; text-align:center; color:#ffffff;'>G major</td><td style='border:1px solid #ddd; padding:8px; text-align:center; color:#ffffff;'>dominant</td></tr><tr style='background-color:#8dd3c7;'><td style='border:1px solid #ddd; padding:8px; text-align:center; color:#000000;'>c</td><td style='border:1px solid #ddd; padding:8px; text-align:center; color:#000000;'>5/3</td><td style='border:1px solid #ddd; padding:8px; text-align:center; color:#000000;'>C major</td><td style='border:1px solid #ddd; padding:8px; text-align:center; color:#000000;'>tonic</td></tr></table><h3>Cadence Analysis</h3><p>Authentic (V-I) Cadence</p>"
      ]
     },
     "metadata": {},
     "output_type": "display_data"
    },
    {
     "data": {
      "text/plain": [
       "<IPython.core.display.Markdown object>"
      ],
      "text/markdown": "### Explanations of Inferred Knowledge:"
     },
     "metadata": {},
     "output_type": "display_data"
    },
    {
     "data": {
      "text/plain": [
       "<IPython.core.display.Markdown object>"
      ],
      "text/markdown": "- Directly found chord: bass g with figure 5/3 is G major (dominant)"
     },
     "metadata": {},
     "output_type": "display_data"
    },
    {
     "data": {
      "text/plain": [
       "<IPython.core.display.Markdown object>"
      ],
      "text/markdown": "- Directly found chord: bass c with figure 5/3 is C major (tonic)"
     },
     "metadata": {},
     "output_type": "display_data"
    },
    {
     "data": {
      "text/plain": [
       "<IPython.core.display.Markdown object>"
      ],
      "text/markdown": "- b'Detected Authentic Cadence (dominant to tonic progression)'"
     },
     "metadata": {},
     "output_type": "display_data"
    },
    {
     "data": {
      "text/plain": [
       "<IPython.core.display.Markdown object>"
      ],
      "text/markdown": "- Directly found chord: bass g with figure 5/3 is G major (dominant)"
     },
     "metadata": {},
     "output_type": "display_data"
    },
    {
     "data": {
      "text/plain": [
       "<IPython.core.display.Markdown object>"
      ],
      "text/markdown": "- Directly found chord: bass c with figure 5/3 is C major (tonic)"
     },
     "metadata": {},
     "output_type": "display_data"
    }
   ],
   "execution_count": 18
  },
  {
   "metadata": {},
   "cell_type": "markdown",
   "source": "## Test Case II: Analyze a I IV I V I Progression",
   "id": "ff4cd6e1d4457506"
  },
  {
   "metadata": {
    "ExecuteTime": {
     "end_time": "2025-04-11T10:57:14.349687Z",
     "start_time": "2025-04-11T10:57:14.129355Z"
    }
   },
   "cell_type": "code",
   "source": [
    "progression = [\n",
    "    (\"c\", \"5/3\"),\n",
    "    (\"f\", \"5/3\"),\n",
    "    (\"c\", \"5/3\"),\n",
    "    (\"g\", \"5/3\"),\n",
    "    (\"c\", \"5/3\")\n",
    "]\n",
    "\n",
    "analyses, cadence_type, explanations = analyze_progression(progression)\n",
    "visualize_analysis(analyses, cadence_type, explanations)"
   ],
   "id": "22f32a4519035cf3",
   "outputs": [
    {
     "data": {
      "text/plain": [
       "<Figure size 1000x300 with 1 Axes>"
      ],
      "image/png": "[encoded data removed]"
     },
     "metadata": {},
     "output_type": "display_data"
    },
    {
     "data": {
      "text/plain": [
       "<IPython.core.display.HTML object>"
      ],
      "text/html": [
       "<h3>Chord Analysis</h3><table style='width:80%; border-collapse:collapse; margin:10px 0;'><tr><th style='border:1px solid #ddd; padding:8px; background-color:#f2f2f2; text-align:center;'>Bass</th><th style='border:1px solid #ddd; padding:8px; background-color:#f2f2f2; text-align:center;'>Figures</th><th style='border:1px solid #ddd; padding:8px; background-color:#f2f2f2; text-align:center;'>Chord Name</th><th style='border:1px solid #ddd; padding:8px; background-color:#f2f2f2; text-align:center;'>Function</th></tr><tr style='background-color:#8dd3c7;'><td style='border:1px solid #ddd; padding:8px; text-align:center; color:#000000;'>c</td><td style='border:1px solid #ddd; padding:8px; text-align:center; color:#000000;'>5/3</td><td style='border:1px solid #ddd; padding:8px; text-align:center; color:#000000;'>C major</td><td style='border:1px solid #ddd; padding:8px; text-align:center; color:#000000;'>tonic</td></tr><tr style='background-color:#80b1d3;'><td style='border:1px solid #ddd; padding:8px; text-align:center; color:#ffffff;'>f</td><td style='border:1px solid #ddd; padding:8px; text-align:center; color:#ffffff;'>5/3</td><td style='border:1px solid #ddd; padding:8px; text-align:center; color:#ffffff;'>F major</td><td style='border:1px solid #ddd; padding:8px; text-align:center; color:#ffffff;'>subdominant</td></tr><tr style='background-color:#8dd3c7;'><td style='border:1px solid #ddd; padding:8px; text-align:center; color:#000000;'>c</td><td style='border:1px solid #ddd; padding:8px; text-align:center; color:#000000;'>5/3</td><td style='border:1px solid #ddd; padding:8px; text-align:center; color:#000000;'>C major</td><td style='border:1px solid #ddd; padding:8px; text-align:center; color:#000000;'>tonic</td></tr><tr style='background-color:#fb8072;'><td style='border:1px solid #ddd; padding:8px; text-align:center; color:#ffffff;'>g</td><td style='border:1px solid #ddd; padding:8px; text-align:center; color:#ffffff;'>5/3</td><td style='border:1px solid #ddd; padding:8px; text-align:center; color:#ffffff;'>G major</td><td style='border:1px solid #ddd; padding:8px; text-align:center; color:#ffffff;'>dominant</td></tr><tr style='background-color:#8dd3c7;'><td style='border:1px solid #ddd; padding:8px; text-align:center; color:#000000;'>c</td><td style='border:1px solid #ddd; padding:8px; text-align:center; color:#000000;'>5/3</td><td style='border:1px solid #ddd; padding:8px; text-align:center; color:#000000;'>C major</td><td style='border:1px solid #ddd; padding:8px; text-align:center; color:#000000;'>tonic</td></tr></table><h3>Cadence Analysis</h3><p>Authentic (V-I) Cadence</p>"
      ]
     },
     "metadata": {},
     "output_type": "display_data"
    },
    {
     "data": {
      "text/plain": [
       "<IPython.core.display.Markdown object>"
      ],
      "text/markdown": "### Explanations of Inferred Knowledge:"
     },
     "metadata": {},
     "output_type": "display_data"
    },
    {
     "data": {
      "text/plain": [
       "<IPython.core.display.Markdown object>"
      ],
      "text/markdown": "- Directly found chord: bass c with figure 5/3 is C major (tonic)"
     },
     "metadata": {},
     "output_type": "display_data"
    },
    {
     "data": {
      "text/plain": [
       "<IPython.core.display.Markdown object>"
      ],
      "text/markdown": "- Directly found chord: bass f with figure 5/3 is F major (subdominant)"
     },
     "metadata": {},
     "output_type": "display_data"
    },
    {
     "data": {
      "text/plain": [
       "<IPython.core.display.Markdown object>"
      ],
      "text/markdown": "- Directly found chord: bass c with figure 5/3 is C major (tonic)"
     },
     "metadata": {},
     "output_type": "display_data"
    },
    {
     "data": {
      "text/plain": [
       "<IPython.core.display.Markdown object>"
      ],
      "text/markdown": "- Directly found chord: bass g with figure 5/3 is G major (dominant)"
     },
     "metadata": {},
     "output_type": "display_data"
    },
    {
     "data": {
      "text/plain": [
       "<IPython.core.display.Markdown object>"
      ],
      "text/markdown": "- Directly found chord: bass c with figure 5/3 is C major (tonic)"
     },
     "metadata": {},
     "output_type": "display_data"
    },
    {
     "data": {
      "text/plain": [
       "<IPython.core.display.Markdown object>"
      ],
      "text/markdown": "- b'Detected Authentic Cadence (dominant to tonic progression)'"
     },
     "metadata": {},
     "output_type": "display_data"
    },
    {
     "data": {
      "text/plain": [
       "<IPython.core.display.Markdown object>"
      ],
      "text/markdown": "- b'Detected Plagal Cadence (subdominant to tonic progression).'"
     },
     "metadata": {},
     "output_type": "display_data"
    },
    {
     "data": {
      "text/plain": [
       "<IPython.core.display.Markdown object>"
      ],
      "text/markdown": "- Directly found chord: bass c with figure 5/3 is C major (tonic)"
     },
     "metadata": {},
     "output_type": "display_data"
    },
    {
     "data": {
      "text/plain": [
       "<IPython.core.display.Markdown object>"
      ],
      "text/markdown": "- Directly found chord: bass f with figure 5/3 is F major (subdominant)"
     },
     "metadata": {},
     "output_type": "display_data"
    },
    {
     "data": {
      "text/plain": [
       "<IPython.core.display.Markdown object>"
      ],
      "text/markdown": "- Directly found chord: bass c with figure 5/3 is C major (tonic)"
     },
     "metadata": {},
     "output_type": "display_data"
    },
    {
     "data": {
      "text/plain": [
       "<IPython.core.display.Markdown object>"
      ],
      "text/markdown": "- Directly found chord: bass g with figure 5/3 is G major (dominant)"
     },
     "metadata": {},
     "output_type": "display_data"
    },
    {
     "data": {
      "text/plain": [
       "<IPython.core.display.Markdown object>"
      ],
      "text/markdown": "- Directly found chord: bass c with figure 5/3 is C major (tonic)"
     },
     "metadata": {},
     "output_type": "display_data"
    }
   ],
   "execution_count": 19
  },
  {
   "metadata": {},
   "cell_type": "markdown",
   "source": "## Test Case III: Analyze a Progression with a First Inversion Chord",
   "id": "93ddd059f12c2dab"
  },
  {
   "metadata": {
    "ExecuteTime": {
     "end_time": "2025-04-11T10:57:14.782591Z",
     "start_time": "2025-04-11T10:57:14.552500Z"
    }
   },
   "cell_type": "code",
   "source": [
    "print(\"Testing the progression [('b','6'),  ('c','5/3')]:\")\n",
    "print(\"\\nDetailed explanation (this is hard-coded in Python, not inferred by Prolog):\")\n",
    "print(\"1. 'b/6' is a G major triad in first inversion: G B D -> B D G.\")\n",
    "print(\"   While the lowest note is B, the chord's fundament is on G, one third below.\")\n",
    "print(\"2. If all works well, the system will detect this and, by constructing the G major,\")\n",
    "print(\"   infer that this in fact an authentic cadence V I with a root progression G C.\\n\")\n",
    "\n",
    "progression = [\n",
    "    (\"b\", \"6\"),\n",
    "    (\"c\", \"5/3\")\n",
    "]\n",
    "\n",
    "analyses, cadence_type, explanations = analyze_progression(progression)\n",
    "visualize_analysis(analyses, cadence_type, explanations)"
   ],
   "id": "8dd3dc79a2419c1a",
   "outputs": [
    {
     "name": "stdout",
     "output_type": "stream",
     "text": [
      "Testing the progression [('b','6'),  ('c','5/3')]:\n",
      "\n",
      "Detailed explanation (this is hard-coded in Python, not inferred by Prolog):\n",
      "1. 'b/6' is a G major triad in first inversion: G B D -> B D G.\n",
      "   While the lowest note is B, the chord's fundament is on G, one third below.\n",
      "2. If all works well, the system will detect this and, by constructing the G major,\n",
      "   infer that this in fact an authentic cadence V I with a root progression G C.\n",
      "\n"
     ]
    },
    {
     "data": {
      "text/plain": [
       "<Figure size 1000x300 with 1 Axes>"
      ],
      "image/png": "[encoded data removed]"
     },
     "metadata": {},
     "output_type": "display_data"
    },
    {
     "data": {
      "text/plain": [
       "<IPython.core.display.HTML object>"
      ],
      "text/html": [
       "<h3>Chord Analysis</h3><table style='width:80%; border-collapse:collapse; margin:10px 0;'><tr><th style='border:1px solid #ddd; padding:8px; background-color:#f2f2f2; text-align:center;'>Bass</th><th style='border:1px solid #ddd; padding:8px; background-color:#f2f2f2; text-align:center;'>Figures</th><th style='border:1px solid #ddd; padding:8px; background-color:#f2f2f2; text-align:center;'>Chord Name</th><th style='border:1px solid #ddd; padding:8px; background-color:#f2f2f2; text-align:center;'>Function</th></tr><tr style='background-color:#fb8072;'><td style='border:1px solid #ddd; padding:8px; text-align:center; color:#ffffff;'>b</td><td style='border:1px solid #ddd; padding:8px; text-align:center; color:#ffffff;'>6</td><td style='border:1px solid #ddd; padding:8px; text-align:center; color:#ffffff;'>G major</td><td style='border:1px solid #ddd; padding:8px; text-align:center; color:#ffffff;'>dominant</td></tr><tr style='background-color:#8dd3c7;'><td style='border:1px solid #ddd; padding:8px; text-align:center; color:#000000;'>c</td><td style='border:1px solid #ddd; padding:8px; text-align:center; color:#000000;'>5/3</td><td style='border:1px solid #ddd; padding:8px; text-align:center; color:#000000;'>C major</td><td style='border:1px solid #ddd; padding:8px; text-align:center; color:#000000;'>tonic</td></tr></table><h3>Cadence Analysis</h3><p>Authentic (V-I) Cadence</p>"
      ]
     },
     "metadata": {},
     "output_type": "display_data"
    },
    {
     "data": {
      "text/plain": [
       "<IPython.core.display.Markdown object>"
      ],
      "text/markdown": "### Explanations of Inferred Knowledge:"
     },
     "metadata": {},
     "output_type": "display_data"
    },
    {
     "data": {
      "text/plain": [
       "<IPython.core.display.Markdown object>"
      ],
      "text/markdown": "- Deep inference: For bass b with figure '6', inferred root g leading to G major (dominant)"
     },
     "metadata": {},
     "output_type": "display_data"
    },
    {
     "data": {
      "text/plain": [
       "<IPython.core.display.Markdown object>"
      ],
      "text/markdown": "- Directly found chord: bass c with figure 5/3 is C major (tonic)"
     },
     "metadata": {},
     "output_type": "display_data"
    },
    {
     "data": {
      "text/plain": [
       "<IPython.core.display.Markdown object>"
      ],
      "text/markdown": "- b'Detected Authentic Cadence (dominant to tonic progression)'"
     },
     "metadata": {},
     "output_type": "display_data"
    },
    {
     "data": {
      "text/plain": [
       "<IPython.core.display.Markdown object>"
      ],
      "text/markdown": "- Deep inference: For bass b with figure '6', inferred root g leading to G major (dominant)"
     },
     "metadata": {},
     "output_type": "display_data"
    },
    {
     "data": {
      "text/plain": [
       "<IPython.core.display.Markdown object>"
      ],
      "text/markdown": "- Directly found chord: bass c with figure 5/3 is C major (tonic)"
     },
     "metadata": {},
     "output_type": "display_data"
    }
   ],
   "execution_count": 20
  }
 ],
 "metadata": {
  "kernelspec": {
   "display_name": "Python 3",
   "language": "python",
   "name": "python3"
  },
  "language_info": {
   "codemirror_mode": {
    "name": "ipython",
    "version": 2
   },
   "file_extension": ".py",
   "mimetype": "text/x-python",
   "name": "python",
   "nbconvert_exporter": "python",
   "pygments_lexer": "ipython2",
   "version": "2.7.6"
  }
 },
 "nbformat": 4,
 "nbformat_minor": 5
}
